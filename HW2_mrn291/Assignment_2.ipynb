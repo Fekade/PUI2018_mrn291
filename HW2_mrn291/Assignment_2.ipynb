{
 "cells": [
  {
   "cell_type": "code",
   "execution_count": 15,
   "metadata": {},
   "outputs": [],
   "source": [
    "from __future__ import print_function #for compatibility beteen python2 and python3\n",
    "import pandas as pd\n",
    "import os"
   ]
  },
  {
   "cell_type": "code",
   "execution_count": 16,
   "metadata": {},
   "outputs": [
    {
     "data": {
      "text/plain": [
       "'/nfshome/mrn291/PUIdata'"
      ]
     },
     "execution_count": 16,
     "metadata": {},
     "output_type": "execute_result"
    }
   ],
   "source": [
    "#check for PUIDATA env variable\n",
    "os.getenv(\"PUIDATA\")"
   ]
  },
  {
   "cell_type": "code",
   "execution_count": 12,
   "metadata": {},
   "outputs": [],
   "source": [
    "#point to Open Data URL for Film Permits\n",
    "url = 'https://data.cityofnewyork.us/resource/6aka-uima.json'"
   ]
  },
  {
   "cell_type": "code",
   "execution_count": 13,
   "metadata": {},
   "outputs": [],
   "source": [
    "#read in data from Open Data\n",
    "films = pd.read_json(url2)"
   ]
  },
  {
   "cell_type": "code",
   "execution_count": 20,
   "metadata": {},
   "outputs": [
    {
     "data": {
      "text/plain": [
       "Index([u'borough', u'category', u'communityboard_s', u'country',\n",
       "       u'enddatetime', u'enteredon', u'eventagency', u'eventid', u'eventtype',\n",
       "       u'parkingheld', u'policeprecinct_s', u'startdatetime',\n",
       "       u'subcategoryname', u'zipcode_s'],\n",
       "      dtype='object')"
      ]
     },
     "execution_count": 20,
     "metadata": {},
     "output_type": "execute_result"
    }
   ],
   "source": [
    "#take a look at the column names\n",
    "films.columns"
   ]
  },
  {
   "cell_type": "code",
   "execution_count": 21,
   "metadata": {},
   "outputs": [
    {
     "data": {
      "text/plain": [
       "(1000, 14)"
      ]
     },
     "execution_count": 21,
     "metadata": {},
     "output_type": "execute_result"
    }
   ],
   "source": [
    "#take a look at the size of the data set\n",
    "films.shape"
   ]
  },
  {
   "cell_type": "code",
   "execution_count": 22,
   "metadata": {},
   "outputs": [
    {
     "data": {
      "text/html": [
       "<div>\n",
       "<table border=\"1\" class=\"dataframe\">\n",
       "  <thead>\n",
       "    <tr style=\"text-align: right;\">\n",
       "      <th></th>\n",
       "      <th>borough</th>\n",
       "      <th>category</th>\n",
       "      <th>communityboard_s</th>\n",
       "      <th>country</th>\n",
       "      <th>enddatetime</th>\n",
       "      <th>enteredon</th>\n",
       "      <th>eventagency</th>\n",
       "      <th>eventid</th>\n",
       "      <th>eventtype</th>\n",
       "      <th>parkingheld</th>\n",
       "      <th>policeprecinct_s</th>\n",
       "      <th>startdatetime</th>\n",
       "      <th>subcategoryname</th>\n",
       "      <th>zipcode_s</th>\n",
       "    </tr>\n",
       "  </thead>\n",
       "  <tbody>\n",
       "    <tr>\n",
       "      <th>0</th>\n",
       "      <td>Bronx</td>\n",
       "      <td>Television</td>\n",
       "      <td>1</td>\n",
       "      <td>United States of America</td>\n",
       "      <td>2016-11-29T23:00:00.000</td>\n",
       "      <td>2016-11-28T13:03:14.000</td>\n",
       "      <td>Mayor's Office of Film, Theatre &amp; Broadcasting</td>\n",
       "      <td>321148</td>\n",
       "      <td>Shooting Permit</td>\n",
       "      <td>LOCUST AVENUE between EAST  139 STREET and EAS...</td>\n",
       "      <td>40</td>\n",
       "      <td>2016-11-29T07:00:00.000</td>\n",
       "      <td>Episodic series</td>\n",
       "      <td>10454</td>\n",
       "    </tr>\n",
       "    <tr>\n",
       "      <th>1</th>\n",
       "      <td>Brooklyn</td>\n",
       "      <td>Television</td>\n",
       "      <td>1</td>\n",
       "      <td>United States of America</td>\n",
       "      <td>2016-03-29T22:00:00.000</td>\n",
       "      <td>2016-03-23T18:38:02.000</td>\n",
       "      <td>Mayor's Office of Film, Theatre &amp; Broadcasting</td>\n",
       "      <td>275460</td>\n",
       "      <td>Shooting Permit</td>\n",
       "      <td>KINGSLAND AVENUE between KINGSLAND AVENUE FORK...</td>\n",
       "      <td>94</td>\n",
       "      <td>2016-03-29T07:00:00.000</td>\n",
       "      <td>Episodic series</td>\n",
       "      <td>11222</td>\n",
       "    </tr>\n",
       "    <tr>\n",
       "      <th>2</th>\n",
       "      <td>Queens</td>\n",
       "      <td>Television</td>\n",
       "      <td>2, 5</td>\n",
       "      <td>United States of America</td>\n",
       "      <td>2014-10-31T02:00:00.000</td>\n",
       "      <td>2014-10-27T12:14:15.000</td>\n",
       "      <td>Mayor's Office of Film, Theatre &amp; Broadcasting</td>\n",
       "      <td>186438</td>\n",
       "      <td>Shooting Permit</td>\n",
       "      <td>LAUREL HILL BLVD between REVIEW AVENUE and RUS...</td>\n",
       "      <td>104, 108</td>\n",
       "      <td>2014-10-30T07:00:00.000</td>\n",
       "      <td>Episodic series</td>\n",
       "      <td>11378</td>\n",
       "    </tr>\n",
       "    <tr>\n",
       "      <th>3</th>\n",
       "      <td>Manhattan</td>\n",
       "      <td>Student</td>\n",
       "      <td>2</td>\n",
       "      <td>United States of America</td>\n",
       "      <td>2016-11-28T21:00:00.000</td>\n",
       "      <td>2016-11-21T15:24:42.000</td>\n",
       "      <td>Mayor's Office of Film, Theatre &amp; Broadcasting</td>\n",
       "      <td>320268</td>\n",
       "      <td>Rigging Permit</td>\n",
       "      <td>WASHINGTON PLACE between BROADWAY and MERCER S...</td>\n",
       "      <td>6</td>\n",
       "      <td>2016-11-28T18:00:00.000</td>\n",
       "      <td>Not Applicable</td>\n",
       "      <td>10003</td>\n",
       "    </tr>\n",
       "    <tr>\n",
       "      <th>4</th>\n",
       "      <td>Manhattan</td>\n",
       "      <td>Theater</td>\n",
       "      <td>4, 5</td>\n",
       "      <td>United States of America</td>\n",
       "      <td>2013-11-17T06:00:00.000</td>\n",
       "      <td>2013-11-07T15:48:28.000</td>\n",
       "      <td>Mayor's Office of Film, Theatre &amp; Broadcasting</td>\n",
       "      <td>128794</td>\n",
       "      <td>Theater Load in and Load Outs</td>\n",
       "      <td>WEST   31 STREET between 7 AVENUE and 8 AVENUE...</td>\n",
       "      <td>14</td>\n",
       "      <td>2013-11-16T00:01:00.000</td>\n",
       "      <td>Theater</td>\n",
       "      <td>10001, 10121</td>\n",
       "    </tr>\n",
       "    <tr>\n",
       "      <th>5</th>\n",
       "      <td>Brooklyn</td>\n",
       "      <td>Television</td>\n",
       "      <td>1, 2</td>\n",
       "      <td>United States of America</td>\n",
       "      <td>2012-01-10T19:00:00.000</td>\n",
       "      <td>2012-01-04T12:25:37.000</td>\n",
       "      <td>Mayor's Office of Film, Theatre &amp; Broadcasting</td>\n",
       "      <td>43547</td>\n",
       "      <td>Shooting Permit</td>\n",
       "      <td>EAGLE STREET between FRANKLIN STREET and WEST ...</td>\n",
       "      <td>108, 94</td>\n",
       "      <td>2012-01-10T07:00:00.000</td>\n",
       "      <td>Episodic series</td>\n",
       "      <td>11101, 11222</td>\n",
       "    </tr>\n",
       "    <tr>\n",
       "      <th>6</th>\n",
       "      <td>Brooklyn</td>\n",
       "      <td>Film</td>\n",
       "      <td>6</td>\n",
       "      <td>United States of America</td>\n",
       "      <td>2012-07-27T19:00:00.000</td>\n",
       "      <td>2012-07-23T19:26:03.000</td>\n",
       "      <td>Mayor's Office of Film, Theatre &amp; Broadcasting</td>\n",
       "      <td>66846</td>\n",
       "      <td>Shooting Permit</td>\n",
       "      <td>8 AVENUE between LINCOLN PLACE and BERKELEY PLACE</td>\n",
       "      <td>78</td>\n",
       "      <td>2012-07-27T07:00:00.000</td>\n",
       "      <td>Feature</td>\n",
       "      <td>11217</td>\n",
       "    </tr>\n",
       "  </tbody>\n",
       "</table>\n",
       "</div>"
      ],
      "text/plain": [
       "     borough    category communityboard_s                   country  \\\n",
       "0      Bronx  Television                1  United States of America   \n",
       "1   Brooklyn  Television                1  United States of America   \n",
       "2     Queens  Television             2, 5  United States of America   \n",
       "3  Manhattan     Student                2  United States of America   \n",
       "4  Manhattan     Theater             4, 5  United States of America   \n",
       "5   Brooklyn  Television             1, 2  United States of America   \n",
       "6   Brooklyn        Film                6  United States of America   \n",
       "\n",
       "               enddatetime                enteredon  \\\n",
       "0  2016-11-29T23:00:00.000  2016-11-28T13:03:14.000   \n",
       "1  2016-03-29T22:00:00.000  2016-03-23T18:38:02.000   \n",
       "2  2014-10-31T02:00:00.000  2014-10-27T12:14:15.000   \n",
       "3  2016-11-28T21:00:00.000  2016-11-21T15:24:42.000   \n",
       "4  2013-11-17T06:00:00.000  2013-11-07T15:48:28.000   \n",
       "5  2012-01-10T19:00:00.000  2012-01-04T12:25:37.000   \n",
       "6  2012-07-27T19:00:00.000  2012-07-23T19:26:03.000   \n",
       "\n",
       "                                      eventagency  eventid  \\\n",
       "0  Mayor's Office of Film, Theatre & Broadcasting   321148   \n",
       "1  Mayor's Office of Film, Theatre & Broadcasting   275460   \n",
       "2  Mayor's Office of Film, Theatre & Broadcasting   186438   \n",
       "3  Mayor's Office of Film, Theatre & Broadcasting   320268   \n",
       "4  Mayor's Office of Film, Theatre & Broadcasting   128794   \n",
       "5  Mayor's Office of Film, Theatre & Broadcasting    43547   \n",
       "6  Mayor's Office of Film, Theatre & Broadcasting    66846   \n",
       "\n",
       "                       eventtype  \\\n",
       "0                Shooting Permit   \n",
       "1                Shooting Permit   \n",
       "2                Shooting Permit   \n",
       "3                 Rigging Permit   \n",
       "4  Theater Load in and Load Outs   \n",
       "5                Shooting Permit   \n",
       "6                Shooting Permit   \n",
       "\n",
       "                                         parkingheld policeprecinct_s  \\\n",
       "0  LOCUST AVENUE between EAST  139 STREET and EAS...               40   \n",
       "1  KINGSLAND AVENUE between KINGSLAND AVENUE FORK...               94   \n",
       "2  LAUREL HILL BLVD between REVIEW AVENUE and RUS...         104, 108   \n",
       "3  WASHINGTON PLACE between BROADWAY and MERCER S...                6   \n",
       "4  WEST   31 STREET between 7 AVENUE and 8 AVENUE...               14   \n",
       "5  EAGLE STREET between FRANKLIN STREET and WEST ...          108, 94   \n",
       "6  8 AVENUE between LINCOLN PLACE and BERKELEY PLACE               78   \n",
       "\n",
       "             startdatetime  subcategoryname     zipcode_s  \n",
       "0  2016-11-29T07:00:00.000  Episodic series         10454  \n",
       "1  2016-03-29T07:00:00.000  Episodic series         11222  \n",
       "2  2014-10-30T07:00:00.000  Episodic series         11378  \n",
       "3  2016-11-28T18:00:00.000   Not Applicable         10003  \n",
       "4  2013-11-16T00:01:00.000          Theater  10001, 10121  \n",
       "5  2012-01-10T07:00:00.000  Episodic series  11101, 11222  \n",
       "6  2012-07-27T07:00:00.000          Feature         11217  "
      ]
     },
     "execution_count": 22,
     "metadata": {},
     "output_type": "execute_result"
    }
   ],
   "source": [
    "#take a look at the first seven rows\n",
    "films.head(7)"
   ]
  },
  {
   "cell_type": "code",
   "execution_count": null,
   "metadata": {},
   "outputs": [],
   "source": []
  }
 ],
 "metadata": {
  "kernelspec": {
   "display_name": "PUI2016_Python2",
   "language": "python",
   "name": "pui2016_python2"
  },
  "language_info": {
   "codemirror_mode": {
    "name": "ipython",
    "version": 2
   },
   "file_extension": ".py",
   "mimetype": "text/x-python",
   "name": "python",
   "nbconvert_exporter": "python",
   "pygments_lexer": "ipython2",
   "version": "2.7.12"
  }
 },
 "nbformat": 4,
 "nbformat_minor": 2
}
