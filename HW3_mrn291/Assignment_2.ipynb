{
 "cells": [
  {
   "cell_type": "code",
   "execution_count": 1,
   "metadata": {},
   "outputs": [
    {
     "name": "stdout",
     "output_type": "stream",
     "text": [
      "Populating the interactive namespace from numpy and matplotlib\n"
     ]
    }
   ],
   "source": [
    "from __future__ import print_function #for compatibility beteen python2 and python3\n",
    "import pandas as pd\n",
    "import os\n",
    "import numpy as np\n",
    "%pylab inline"
   ]
  },
  {
   "cell_type": "markdown",
   "metadata": {},
   "source": [
    "### Assignment 2: Main Assignment"
   ]
  },
  {
   "cell_type": "markdown",
   "metadata": {},
   "source": [
    "##### Objective: Make sure PUIDATA environmental variable is set up correctly."
   ]
  },
  {
   "cell_type": "code",
   "execution_count": 2,
   "metadata": {},
   "outputs": [
    {
     "data": {
      "text/plain": [
       "'/nfshome/mrn291/PUIdata'"
      ]
     },
     "execution_count": 2,
     "metadata": {},
     "output_type": "execute_result"
    }
   ],
   "source": [
    "#check for PUIDATA env variable\n",
    "os.getenv(\"PUIDATA\")"
   ]
  },
  {
   "cell_type": "markdown",
   "metadata": {},
   "source": [
    "##### Objective: Read in data and display a sample"
   ]
  },
  {
   "cell_type": "code",
   "execution_count": 3,
   "metadata": {},
   "outputs": [],
   "source": [
    "#point to Open Data URL for water consumption\n",
    "url = 'https://data.cityofnewyork.us/resource/waf7-5gvc.json'"
   ]
  },
  {
   "cell_type": "code",
   "execution_count": 4,
   "metadata": {},
   "outputs": [],
   "source": [
    "#read in data from Open Data\n",
    "water_consumption = pd.read_json(url)"
   ]
  },
  {
   "cell_type": "code",
   "execution_count": 5,
   "metadata": {},
   "outputs": [
    {
     "data": {
      "text/plain": [
       "Index([u'new_york_city_population', u'nyc_consumption_million_gallons_per_day',\n",
       "       u'per_capita_gallons_per_person_per_day', u'year'],\n",
       "      dtype='object')"
      ]
     },
     "execution_count": 5,
     "metadata": {},
     "output_type": "execute_result"
    }
   ],
   "source": [
    "#take a look at the column names\n",
    "water_consumption.columns"
   ]
  },
  {
   "cell_type": "code",
   "execution_count": 6,
   "metadata": {},
   "outputs": [
    {
     "data": {
      "text/plain": [
       "(39, 4)"
      ]
     },
     "execution_count": 6,
     "metadata": {},
     "output_type": "execute_result"
    }
   ],
   "source": [
    "#take a look at the size of the data set\n",
    "water_consumption.shape"
   ]
  },
  {
   "cell_type": "code",
   "execution_count": 7,
   "metadata": {},
   "outputs": [
    {
     "data": {
      "text/plain": [
       "new_york_city_population                   float64\n",
       "nyc_consumption_million_gallons_per_day    float64\n",
       "per_capita_gallons_per_person_per_day        int64\n",
       "year                                         int64\n",
       "dtype: object"
      ]
     },
     "execution_count": 7,
     "metadata": {},
     "output_type": "execute_result"
    }
   ],
   "source": [
    "#take a look at the data types of the columns\n",
    "water_consumption.dtypes"
   ]
  },
  {
   "cell_type": "code",
   "execution_count": 8,
   "metadata": {},
   "outputs": [
    {
     "data": {
      "text/html": [
       "<div>\n",
       "<table border=\"1\" class=\"dataframe\">\n",
       "  <thead>\n",
       "    <tr style=\"text-align: right;\">\n",
       "      <th></th>\n",
       "      <th>new_york_city_population</th>\n",
       "      <th>nyc_consumption_million_gallons_per_day</th>\n",
       "      <th>per_capita_gallons_per_person_per_day</th>\n",
       "      <th>year</th>\n",
       "    </tr>\n",
       "  </thead>\n",
       "  <tbody>\n",
       "    <tr>\n",
       "      <th>0</th>\n",
       "      <td>7102100.0</td>\n",
       "      <td>1512.0</td>\n",
       "      <td>213</td>\n",
       "      <td>1979</td>\n",
       "    </tr>\n",
       "    <tr>\n",
       "      <th>1</th>\n",
       "      <td>7071639.0</td>\n",
       "      <td>1506.0</td>\n",
       "      <td>213</td>\n",
       "      <td>1980</td>\n",
       "    </tr>\n",
       "    <tr>\n",
       "      <th>2</th>\n",
       "      <td>7089241.0</td>\n",
       "      <td>1309.0</td>\n",
       "      <td>185</td>\n",
       "      <td>1981</td>\n",
       "    </tr>\n",
       "    <tr>\n",
       "      <th>3</th>\n",
       "      <td>7109105.0</td>\n",
       "      <td>1382.0</td>\n",
       "      <td>194</td>\n",
       "      <td>1982</td>\n",
       "    </tr>\n",
       "    <tr>\n",
       "      <th>4</th>\n",
       "      <td>7181224.0</td>\n",
       "      <td>1424.0</td>\n",
       "      <td>198</td>\n",
       "      <td>1983</td>\n",
       "    </tr>\n",
       "    <tr>\n",
       "      <th>5</th>\n",
       "      <td>7234514.0</td>\n",
       "      <td>1465.0</td>\n",
       "      <td>203</td>\n",
       "      <td>1984</td>\n",
       "    </tr>\n",
       "    <tr>\n",
       "      <th>6</th>\n",
       "      <td>7274054.0</td>\n",
       "      <td>1326.0</td>\n",
       "      <td>182</td>\n",
       "      <td>1985</td>\n",
       "    </tr>\n",
       "  </tbody>\n",
       "</table>\n",
       "</div>"
      ],
      "text/plain": [
       "   new_york_city_population  nyc_consumption_million_gallons_per_day  \\\n",
       "0                 7102100.0                                   1512.0   \n",
       "1                 7071639.0                                   1506.0   \n",
       "2                 7089241.0                                   1309.0   \n",
       "3                 7109105.0                                   1382.0   \n",
       "4                 7181224.0                                   1424.0   \n",
       "5                 7234514.0                                   1465.0   \n",
       "6                 7274054.0                                   1326.0   \n",
       "\n",
       "   per_capita_gallons_per_person_per_day  year  \n",
       "0                                    213  1979  \n",
       "1                                    213  1980  \n",
       "2                                    185  1981  \n",
       "3                                    194  1982  \n",
       "4                                    198  1983  \n",
       "5                                    203  1984  \n",
       "6                                    182  1985  "
      ]
     },
     "execution_count": 8,
     "metadata": {},
     "output_type": "execute_result"
    }
   ],
   "source": [
    "#take a look at the first seven rows\n",
    "water_consumption.head(7)"
   ]
  },
  {
   "cell_type": "markdown",
   "metadata": {},
   "source": [
    "##### Objective: Pick two numeric variables and plot them against each other."
   ]
  },
  {
   "cell_type": "code",
   "execution_count": 9,
   "metadata": {},
   "outputs": [
    {
     "name": "stderr",
     "output_type": "stream",
     "text": [
      "/usr/local/Anaconda3-5.0.0-Linux-x86_64/envs/PUI2016_Python2/lib/python2.7/site-packages/pandas/core/frame.py:2754: SettingWithCopyWarning: \n",
      "A value is trying to be set on a copy of a slice from a DataFrame\n",
      "\n",
      "See the caveats in the documentation: http://pandas.pydata.org/pandas-docs/stable/indexing.html#indexing-view-versus-copy\n",
      "  **kwargs)\n"
     ]
    }
   ],
   "source": [
    "#pick two numeric columns to plot\n",
    "#clean up column names so they're prettier on the plot\n",
    "water_plot = water_consumption[['new_york_city_population', 'nyc_consumption_million_gallons_per_day']]\n",
    "water_plot.rename(columns={'new_york_city_population':'NYC Population','nyc_consumption_million_gallons_per_day':'Million Gallons of H20 Per Day'}, inplace=True)"
   ]
  },
  {
   "cell_type": "code",
   "execution_count": 10,
   "metadata": {},
   "outputs": [
    {
     "data": {
      "text/html": [
       "<div>\n",
       "<table border=\"1\" class=\"dataframe\">\n",
       "  <thead>\n",
       "    <tr style=\"text-align: right;\">\n",
       "      <th></th>\n",
       "      <th>NYC Population</th>\n",
       "      <th>Million Gallons of H20 Per Day</th>\n",
       "    </tr>\n",
       "  </thead>\n",
       "  <tbody>\n",
       "    <tr>\n",
       "      <th>0</th>\n",
       "      <td>7102100.0</td>\n",
       "      <td>1512.0</td>\n",
       "    </tr>\n",
       "    <tr>\n",
       "      <th>1</th>\n",
       "      <td>7071639.0</td>\n",
       "      <td>1506.0</td>\n",
       "    </tr>\n",
       "    <tr>\n",
       "      <th>2</th>\n",
       "      <td>7089241.0</td>\n",
       "      <td>1309.0</td>\n",
       "    </tr>\n",
       "    <tr>\n",
       "      <th>3</th>\n",
       "      <td>7109105.0</td>\n",
       "      <td>1382.0</td>\n",
       "    </tr>\n",
       "    <tr>\n",
       "      <th>4</th>\n",
       "      <td>7181224.0</td>\n",
       "      <td>1424.0</td>\n",
       "    </tr>\n",
       "  </tbody>\n",
       "</table>\n",
       "</div>"
      ],
      "text/plain": [
       "   NYC Population  Million Gallons of H20 Per Day\n",
       "0       7102100.0                          1512.0\n",
       "1       7071639.0                          1506.0\n",
       "2       7089241.0                          1309.0\n",
       "3       7109105.0                          1382.0\n",
       "4       7181224.0                          1424.0"
      ]
     },
     "execution_count": 10,
     "metadata": {},
     "output_type": "execute_result"
    }
   ],
   "source": [
    "water_plot.head(5)"
   ]
  },
  {
   "cell_type": "code",
   "execution_count": 11,
   "metadata": {},
   "outputs": [],
   "source": [
    "#make the plot larger\n",
    "plt.rcParams[\"figure.figsize\"] = [16,9]"
   ]
  },
  {
   "cell_type": "code",
   "execution_count": 12,
   "metadata": {},
   "outputs": [
    {
     "data": {
      "text/plain": [
       "<matplotlib.axes._subplots.AxesSubplot at 0x7f16494bfbd0>"
      ]
     },
     "execution_count": 12,
     "metadata": {},
     "output_type": "execute_result"
    },
    {
     "data": {
      "image/png": "[encoded data removed]",
      "text/plain": [
       "<matplotlib.figure.Figure at 0x7f16494bf5d0>"
      ]
     },
     "metadata": {},
     "output_type": "display_data"
    }
   ],
   "source": [
    "water_plot.plot(x=\"NYC Population\", y=\"Million Gallons of H20 Per Day\", kind='scatter')"
   ]
  },
  {
   "cell_type": "markdown",
   "metadata": {},
   "source": [
    "Figure 1: Total population of New York City against million of gallons of water used per day as reported by the Department of Environmental Protection for the years between 1979 and 2017. It appears that as the population increases, daily water usage goes down."
   ]
  },
  {
   "cell_type": "markdown",
   "metadata": {},
   "source": [
    "### Assignment 2: Extra Credit"
   ]
  },
  {
   "cell_type": "code",
   "execution_count": 13,
   "metadata": {},
   "outputs": [],
   "source": [
    "#point to Open Data URL for water consumption\n",
    "url = 'https://data.cityofnewyork.us/resource/buih-g7ti.json'"
   ]
  },
  {
   "cell_type": "code",
   "execution_count": 14,
   "metadata": {},
   "outputs": [],
   "source": [
    "#read in data\n",
    "salt = pd.read_json(url)"
   ]
  },
  {
   "cell_type": "code",
   "execution_count": 15,
   "metadata": {},
   "outputs": [
    {
     "data": {
      "text/html": [
       "<div>\n",
       "<table border=\"1\" class=\"dataframe\">\n",
       "  <thead>\n",
       "    <tr style=\"text-align: right;\">\n",
       "      <th></th>\n",
       "      <th>bronx</th>\n",
       "      <th>brooklyn</th>\n",
       "      <th>date_of_report</th>\n",
       "      <th>dsny_storm</th>\n",
       "      <th>manhattan</th>\n",
       "      <th>queens</th>\n",
       "      <th>staten_island</th>\n",
       "      <th>total_tons</th>\n",
       "    </tr>\n",
       "  </thead>\n",
       "  <tbody>\n",
       "    <tr>\n",
       "      <th>0</th>\n",
       "      <td>2059</td>\n",
       "      <td>2690</td>\n",
       "      <td>2016-01-19T00:00:00.000</td>\n",
       "      <td>Storm 1</td>\n",
       "      <td>1111</td>\n",
       "      <td>6625</td>\n",
       "      <td>2931</td>\n",
       "      <td>15416</td>\n",
       "    </tr>\n",
       "    <tr>\n",
       "      <th>1</th>\n",
       "      <td>4567</td>\n",
       "      <td>5521</td>\n",
       "      <td>2016-01-23T00:00:00.000</td>\n",
       "      <td>Storm 2</td>\n",
       "      <td>2919</td>\n",
       "      <td>9253</td>\n",
       "      <td>4264</td>\n",
       "      <td>26524</td>\n",
       "    </tr>\n",
       "    <tr>\n",
       "      <th>2</th>\n",
       "      <td>8167</td>\n",
       "      <td>12290</td>\n",
       "      <td>2016-01-24T00:00:00.000</td>\n",
       "      <td>Storm 2</td>\n",
       "      <td>6582</td>\n",
       "      <td>17133</td>\n",
       "      <td>5411</td>\n",
       "      <td>49583</td>\n",
       "    </tr>\n",
       "    <tr>\n",
       "      <th>3</th>\n",
       "      <td>4094</td>\n",
       "      <td>6217</td>\n",
       "      <td>2016-01-25T00:00:00.000</td>\n",
       "      <td>Storm 2</td>\n",
       "      <td>3862</td>\n",
       "      <td>10236</td>\n",
       "      <td>1256</td>\n",
       "      <td>25665</td>\n",
       "    </tr>\n",
       "    <tr>\n",
       "      <th>4</th>\n",
       "      <td>3299</td>\n",
       "      <td>5120</td>\n",
       "      <td>2016-01-26T00:00:00.000</td>\n",
       "      <td>Storm 2</td>\n",
       "      <td>2499</td>\n",
       "      <td>7685</td>\n",
       "      <td>764</td>\n",
       "      <td>19367</td>\n",
       "    </tr>\n",
       "  </tbody>\n",
       "</table>\n",
       "</div>"
      ],
      "text/plain": [
       "   bronx  brooklyn           date_of_report dsny_storm  manhattan  queens  \\\n",
       "0   2059      2690  2016-01-19T00:00:00.000   Storm 1        1111    6625   \n",
       "1   4567      5521  2016-01-23T00:00:00.000    Storm 2       2919    9253   \n",
       "2   8167     12290  2016-01-24T00:00:00.000    Storm 2       6582   17133   \n",
       "3   4094      6217  2016-01-25T00:00:00.000    Storm 2       3862   10236   \n",
       "4   3299      5120  2016-01-26T00:00:00.000    Storm 2       2499    7685   \n",
       "\n",
       "   staten_island  total_tons  \n",
       "0           2931       15416  \n",
       "1           4264       26524  \n",
       "2           5411       49583  \n",
       "3           1256       25665  \n",
       "4            764       19367  "
      ]
     },
     "execution_count": 15,
     "metadata": {},
     "output_type": "execute_result"
    }
   ],
   "source": [
    "#take a peek at the top\n",
    "salt.head()"
   ]
  },
  {
   "cell_type": "code",
   "execution_count": 16,
   "metadata": {},
   "outputs": [
    {
     "data": {
      "text/plain": [
       "bronx              int64\n",
       "brooklyn           int64\n",
       "date_of_report    object\n",
       "dsny_storm        object\n",
       "manhattan          int64\n",
       "queens             int64\n",
       "staten_island      int64\n",
       "total_tons         int64\n",
       "dtype: object"
      ]
     },
     "execution_count": 16,
     "metadata": {},
     "output_type": "execute_result"
    }
   ],
   "source": [
    "#make sure there's a date time column\n",
    "salt.dtypes"
   ]
  },
  {
   "cell_type": "code",
   "execution_count": 17,
   "metadata": {},
   "outputs": [],
   "source": [
    "#make the date column a date\n",
    "salt['date_of_report'] = salt['date_of_report'].astype(datetime64)"
   ]
  },
  {
   "cell_type": "code",
   "execution_count": 18,
   "metadata": {},
   "outputs": [],
   "source": [
    "salt_brooklyn = salt[['date_of_report', 'brooklyn']]\n",
    "salt_brooklyn.rename(columns={'date_of_report':'Report Date','brooklyn':'Tons of Salt in Brooklyn'}, inplace=True)"
   ]
  },
  {
   "cell_type": "code",
   "execution_count": 19,
   "metadata": {},
   "outputs": [
    {
     "data": {
      "text/html": [
       "<div>\n",
       "<table border=\"1\" class=\"dataframe\">\n",
       "  <thead>\n",
       "    <tr style=\"text-align: right;\">\n",
       "      <th></th>\n",
       "      <th>Report Date</th>\n",
       "      <th>Tons of Salt in Brooklyn</th>\n",
       "    </tr>\n",
       "  </thead>\n",
       "  <tbody>\n",
       "    <tr>\n",
       "      <th>0</th>\n",
       "      <td>2016-01-19</td>\n",
       "      <td>2690</td>\n",
       "    </tr>\n",
       "    <tr>\n",
       "      <th>1</th>\n",
       "      <td>2016-01-23</td>\n",
       "      <td>5521</td>\n",
       "    </tr>\n",
       "    <tr>\n",
       "      <th>2</th>\n",
       "      <td>2016-01-24</td>\n",
       "      <td>12290</td>\n",
       "    </tr>\n",
       "    <tr>\n",
       "      <th>3</th>\n",
       "      <td>2016-01-25</td>\n",
       "      <td>6217</td>\n",
       "    </tr>\n",
       "    <tr>\n",
       "      <th>4</th>\n",
       "      <td>2016-01-26</td>\n",
       "      <td>5120</td>\n",
       "    </tr>\n",
       "    <tr>\n",
       "      <th>5</th>\n",
       "      <td>2016-01-27</td>\n",
       "      <td>4619</td>\n",
       "    </tr>\n",
       "    <tr>\n",
       "      <th>6</th>\n",
       "      <td>2016-01-28</td>\n",
       "      <td>2889</td>\n",
       "    </tr>\n",
       "  </tbody>\n",
       "</table>\n",
       "</div>"
      ],
      "text/plain": [
       "  Report Date  Tons of Salt in Brooklyn\n",
       "0  2016-01-19                      2690\n",
       "1  2016-01-23                      5521\n",
       "2  2016-01-24                     12290\n",
       "3  2016-01-25                      6217\n",
       "4  2016-01-26                      5120\n",
       "5  2016-01-27                      4619\n",
       "6  2016-01-28                      2889"
      ]
     },
     "execution_count": 19,
     "metadata": {},
     "output_type": "execute_result"
    }
   ],
   "source": [
    "salt_brooklyn.head(7)"
   ]
  },
  {
   "cell_type": "code",
   "execution_count": 20,
   "metadata": {},
   "outputs": [
    {
     "data": {
      "text/plain": [
       "<matplotlib.axes._subplots.AxesSubplot at 0x7f1648b95b10>"
      ]
     },
     "execution_count": 20,
     "metadata": {},
     "output_type": "execute_result"
    },
    {
     "data": {
      "image/png": "[encoded data removed]",
      "text/plain": [
       "<matplotlib.figure.Figure at 0x7f1649441190>"
      ]
     },
     "metadata": {},
     "output_type": "display_data"
    }
   ],
   "source": [
    "salt_brooklyn.plot(x='Report Date', y='Tons of Salt in Brooklyn', style = '.')"
   ]
  },
  {
   "cell_type": "markdown",
   "metadata": {},
   "source": [
    "Figure 1: Storm report date against tons of salt used per day in Brooklyn as reported by the Department of Sanitation for storms from 2016 to the present. It appears salt usage increased for storms in 2017 and 2018 relative to storms in 2016."
   ]
  },
  {
   "cell_type": "markdown",
   "metadata": {},
   "source": [
    "Question: I ran into [this issue](https://stackoverflow.com/questions/27472548/pandas-scatter-plotting-datetime) when trying to make a scatter plot with a datetime column.  Is there a better way to handle this?  Should I not have converted the column into a datetime? "
   ]
  }
 ],
 "metadata": {
  "kernelspec": {
   "display_name": "PUI2016_Python2",
   "language": "python",
   "name": "pui2016_python2"
  },
  "language_info": {
   "codemirror_mode": {
    "name": "ipython",
    "version": 2
   },
   "file_extension": ".py",
   "mimetype": "text/x-python",
   "name": "python",
   "nbconvert_exporter": "python",
   "pygments_lexer": "ipython2",
   "version": "2.7.12"
  }
 },
 "nbformat": 4,
 "nbformat_minor": 2
}
